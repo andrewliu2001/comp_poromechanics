{
  "nbformat": 4,
  "nbformat_minor": 0,
  "metadata": {
    "colab": {
      "name": "Andrew GNN.ipynb",
      "provenance": [],
      "collapsed_sections": []
    },
    "kernelspec": {
      "name": "python3",
      "display_name": "Python 3"
    },
    "language_info": {
      "name": "python"
    }
  },
  "cells": [
    {
      "cell_type": "markdown",
      "source": [
        ""
      ],
      "metadata": {
        "id": "-DujY0Gqn5YU"
      }
    },
    {
      "cell_type": "code",
      "metadata": {
        "colab": {
          "base_uri": "https://localhost:8080/"
        },
        "id": "0UhFT8bks3Nb",
        "outputId": "f01c049b-c9b3-47b0-f302-0eda87668f5f"
      },
      "source": [
        "!pip install torch-scatter\n",
        "!pip install torch-sparse\n",
        "!pip install torch-geometric"
      ],
      "execution_count": null,
      "outputs": [
        {
          "output_type": "stream",
          "name": "stdout",
          "text": [
            "Collecting torch-scatter\n",
            "  Downloading torch_scatter-2.0.9.tar.gz (21 kB)\n",
            "Building wheels for collected packages: torch-scatter\n",
            "  Building wheel for torch-scatter (setup.py) ... \u001b[?25l\u001b[?25hdone\n",
            "  Created wheel for torch-scatter: filename=torch_scatter-2.0.9-cp37-cp37m-linux_x86_64.whl size=282114 sha256=36e3baecd038323fc309e9f5a0956e9cd8422bb798d569253087426199f00d5e\n",
            "  Stored in directory: /root/.cache/pip/wheels/dd/57/a3/42ea193b77378ce634eb9454c9bc1e3163f3b482a35cdee4d1\n",
            "Successfully built torch-scatter\n",
            "Installing collected packages: torch-scatter\n",
            "Successfully installed torch-scatter-2.0.9\n",
            "Collecting torch-sparse\n",
            "  Downloading torch_sparse-0.6.12.tar.gz (43 kB)\n",
            "\u001b[K     |████████████████████████████████| 43 kB 1.4 MB/s \n",
            "\u001b[?25hRequirement already satisfied: scipy in /usr/local/lib/python3.7/dist-packages (from torch-sparse) (1.4.1)\n",
            "Requirement already satisfied: numpy>=1.13.3 in /usr/local/lib/python3.7/dist-packages (from scipy->torch-sparse) (1.19.5)\n",
            "Building wheels for collected packages: torch-sparse\n",
            "  Building wheel for torch-sparse (setup.py) ... \u001b[?25l\u001b[?25hdone\n",
            "  Created wheel for torch-sparse: filename=torch_sparse-0.6.12-cp37-cp37m-linux_x86_64.whl size=505740 sha256=28573b4be22bf632d195005012998f470321d158505ec721fb098c898c9fbd8d\n",
            "  Stored in directory: /root/.cache/pip/wheels/fb/e2/2f/44956c61e3299573ffe12da9d1374c7576ca0c5fb1fe1ed38c\n",
            "Successfully built torch-sparse\n",
            "Installing collected packages: torch-sparse\n",
            "Successfully installed torch-sparse-0.6.12\n",
            "Collecting torch-geometric\n",
            "  Downloading torch_geometric-2.0.2.tar.gz (325 kB)\n",
            "\u001b[K     |████████████████████████████████| 325 kB 29.2 MB/s \n",
            "\u001b[?25hRequirement already satisfied: numpy in /usr/local/lib/python3.7/dist-packages (from torch-geometric) (1.19.5)\n",
            "Requirement already satisfied: tqdm in /usr/local/lib/python3.7/dist-packages (from torch-geometric) (4.62.3)\n",
            "Requirement already satisfied: scipy in /usr/local/lib/python3.7/dist-packages (from torch-geometric) (1.4.1)\n",
            "Requirement already satisfied: networkx in /usr/local/lib/python3.7/dist-packages (from torch-geometric) (2.6.3)\n",
            "Requirement already satisfied: scikit-learn in /usr/local/lib/python3.7/dist-packages (from torch-geometric) (1.0.1)\n",
            "Requirement already satisfied: requests in /usr/local/lib/python3.7/dist-packages (from torch-geometric) (2.23.0)\n",
            "Requirement already satisfied: pandas in /usr/local/lib/python3.7/dist-packages (from torch-geometric) (1.1.5)\n",
            "Collecting rdflib\n",
            "  Downloading rdflib-6.0.2-py3-none-any.whl (407 kB)\n",
            "\u001b[K     |████████████████████████████████| 407 kB 58.4 MB/s \n",
            "\u001b[?25hRequirement already satisfied: googledrivedownloader in /usr/local/lib/python3.7/dist-packages (from torch-geometric) (0.4)\n",
            "Requirement already satisfied: jinja2 in /usr/local/lib/python3.7/dist-packages (from torch-geometric) (2.11.3)\n",
            "Requirement already satisfied: pyparsing in /usr/local/lib/python3.7/dist-packages (from torch-geometric) (3.0.6)\n",
            "Collecting yacs\n",
            "  Downloading yacs-0.1.8-py3-none-any.whl (14 kB)\n",
            "Requirement already satisfied: PyYAML in /usr/local/lib/python3.7/dist-packages (from torch-geometric) (3.13)\n",
            "Requirement already satisfied: MarkupSafe>=0.23 in /usr/local/lib/python3.7/dist-packages (from jinja2->torch-geometric) (2.0.1)\n",
            "Requirement already satisfied: pytz>=2017.2 in /usr/local/lib/python3.7/dist-packages (from pandas->torch-geometric) (2018.9)\n",
            "Requirement already satisfied: python-dateutil>=2.7.3 in /usr/local/lib/python3.7/dist-packages (from pandas->torch-geometric) (2.8.2)\n",
            "Requirement already satisfied: six>=1.5 in /usr/local/lib/python3.7/dist-packages (from python-dateutil>=2.7.3->pandas->torch-geometric) (1.15.0)\n",
            "Requirement already satisfied: setuptools in /usr/local/lib/python3.7/dist-packages (from rdflib->torch-geometric) (57.4.0)\n",
            "Collecting isodate\n",
            "  Downloading isodate-0.6.0-py2.py3-none-any.whl (45 kB)\n",
            "\u001b[K     |████████████████████████████████| 45 kB 3.0 MB/s \n",
            "\u001b[?25hRequirement already satisfied: certifi>=2017.4.17 in /usr/local/lib/python3.7/dist-packages (from requests->torch-geometric) (2021.10.8)\n",
            "Requirement already satisfied: chardet<4,>=3.0.2 in /usr/local/lib/python3.7/dist-packages (from requests->torch-geometric) (3.0.4)\n",
            "Requirement already satisfied: urllib3!=1.25.0,!=1.25.1,<1.26,>=1.21.1 in /usr/local/lib/python3.7/dist-packages (from requests->torch-geometric) (1.24.3)\n",
            "Requirement already satisfied: idna<3,>=2.5 in /usr/local/lib/python3.7/dist-packages (from requests->torch-geometric) (2.10)\n",
            "Requirement already satisfied: joblib>=0.11 in /usr/local/lib/python3.7/dist-packages (from scikit-learn->torch-geometric) (1.1.0)\n",
            "Requirement already satisfied: threadpoolctl>=2.0.0 in /usr/local/lib/python3.7/dist-packages (from scikit-learn->torch-geometric) (3.0.0)\n",
            "Building wheels for collected packages: torch-geometric\n",
            "  Building wheel for torch-geometric (setup.py) ... \u001b[?25l\u001b[?25hdone\n",
            "  Created wheel for torch-geometric: filename=torch_geometric-2.0.2-py3-none-any.whl size=535570 sha256=a7c3f8490b675ac7d684cbf61e69495d3ea96338c783318d0e715f6b779a24f4\n",
            "  Stored in directory: /root/.cache/pip/wheels/3f/08/13/2321517088bb2e95bfd0e45033bb9c923189e5b2078e0be4ef\n",
            "Successfully built torch-geometric\n",
            "Installing collected packages: isodate, yacs, rdflib, torch-geometric\n",
            "Successfully installed isodate-0.6.0 rdflib-6.0.2 torch-geometric-2.0.2 yacs-0.1.8\n"
          ]
        }
      ]
    },
    {
      "cell_type": "code",
      "metadata": {
        "id": "AwhjHPlSs556"
      },
      "source": [
        "import numpy as np\n",
        "import os\n",
        "import copy\n",
        "\n",
        "import torch\n",
        "import torch_geometric as geo\n",
        "from torch.autograd import Variable, grad\n",
        "import torch.utils.data as Data\n",
        "import matplotlib.pyplot as plt\n",
        "from torch.autograd.functional import jacobian, hessian"
      ],
      "execution_count": null,
      "outputs": []
    },
    {
      "cell_type": "markdown",
      "metadata": {
        "id": "wpJFLAzLwcGP"
      },
      "source": [
        "Load database:"
      ]
    },
    {
      "cell_type": "code",
      "metadata": {
        "colab": {
          "base_uri": "https://localhost:8080/"
        },
        "id": "1UnPff9JwbdF",
        "outputId": "35f0852a-5f18-4871-af7f-3df393a82feb"
      },
      "source": [
        "from google.colab import drive\n",
        "drive.mount('/gdrive', force_remount=True)"
      ],
      "execution_count": null,
      "outputs": [
        {
          "output_type": "stream",
          "name": "stdout",
          "text": [
            "Mounted at /gdrive\n"
          ]
        }
      ]
    },
    {
      "cell_type": "code",
      "metadata": {
        "colab": {
          "base_uri": "https://localhost:8080/"
        },
        "id": "Vh6udF0zwi-R",
        "outputId": "e8804e13-bd52-48bb-e6ca-9e9c162c03b5"
      },
      "source": [
        "# change directory from your top level google drive to the RL folder (make sure step 1 is already done!)\n",
        "%cd /gdrive/My\\ Drive/MMLDT_graduate_short_course/Instructor_Steve_Sun_Jupyter_notebook/Lab3C_Geometric_learning_for_hyperelasticity_pyTorch/"
      ],
      "execution_count": null,
      "outputs": [
        {
          "output_type": "stream",
          "name": "stdout",
          "text": [
            "/gdrive/.shortcut-targets-by-id/1rPDbVGz2lJwbzwXYyEpJn2BszNcSZhBU/MMLDT_graduate_short_course/Instructor_Steve_Sun_Jupyter_notebook/Lab3C_Geometric_learning_for_hyperelasticity_pyTorch\n"
          ]
        }
      ]
    },
    {
      "cell_type": "code",
      "metadata": {
        "id": "70U6uFMovyRr"
      },
      "source": [
        "# name of polycrystal features\n",
        "items = ['vol','neighnb','area','diameq','sphericity','dihangleav','facenb','euler_1','euler_2','euler_3']\n",
        "n_features = len(items)\n",
        "# placeholders for graph data\n",
        "gnn_data_list = []\n",
        "gnn_feature_list = []\n",
        "\n",
        "os.chdir('graph_process/database/tesselations/RVE_1')\n",
        "for k in range(1,151):\n",
        "    working_dir = '../RVE_'+str(k)+'/'\n",
        "    os.chdir(working_dir)\n",
        "    \n",
        "    # load graph connectivity from the stored adjacency matrix\n",
        "    A = np.load('A.npy').astype(np.int32)\n",
        "    n_nodes = A.shape[0]\n",
        "    n_edges = A.sum() // 2\n",
        "    edge_index = np.zeros((2,n_edges), dtype=np.int32)\n",
        "    # write to edge_list\n",
        "    cnt = 0\n",
        "    for i in range(n_nodes):\n",
        "        for j in range(i, n_nodes):\n",
        "            if A[i,j] > 0:\n",
        "                edge_index[0,cnt] = i\n",
        "                edge_index[1,cnt] = j\n",
        "                cnt += 1\n",
        "    \n",
        "    # load crystal data from txt file\n",
        "    X = np.zeros((n_nodes,n_features), dtype=np.double)\n",
        "    for i in range(n_features):\n",
        "        X[:,i] = np.loadtxt('poly/' + items[i] + '.txt')\n",
        "    \n",
        "    gnn_feature_list.append( torch.tensor(X, dtype=torch.double) )\n",
        "    gnn_data_list.append( geo.data.Data(torch.tensor(X, dtype=torch.double), torch.tensor(edge_index,dtype=torch.long), torch.tensor([k-1])) )\n"
      ],
      "execution_count": null,
      "outputs": []
    },
    {
      "cell_type": "code",
      "metadata": {
        "id": "UTC6rRtwx8c6"
      },
      "source": [
        "\"\"\"\n",
        "    for large deformation cases\n",
        "    convert F, P to C, S\n",
        "\"\"\"\n",
        "def convert_Defgrad_and_PKStress( dF_ , P_ ):\n",
        "    # F = dF + I\n",
        "    n_samples = dF_.shape[0]\n",
        "    F_ = dF_.reshape(n_samples, 3,3)\n",
        "    P_ = P_.reshape(n_samples, 3,3)\n",
        "    C_ = np.zeros_like(F_)\n",
        "    S_ = np.zeros_like(C_)\n",
        "    for i in range(n_samples):\n",
        "        F_[i,:,:] += np.eye(3)\n",
        "        Fi = F_[i,:,:]\n",
        "        C_[i,:,:] = Fi.transpose() @ Fi\n",
        "        S_[i,:,:] = np.linalg.inv(Fi) @ P_[i,:,:]\n",
        "    C_ = C_.reshape(n_samples, 9)\n",
        "    S_ = S_.reshape(n_samples, 9)\n",
        "    return C_, S_\n",
        "\n",
        "# placeholders for energy data\n",
        "energy_data_list = []\n",
        "stretch_data_list = []\n",
        "PKStress_data_list = []\n",
        "\n",
        "os.chdir('../../../../elasticity/RVE_1')\n",
        "for k in range(1,151):\n",
        "    working_dir = '../RVE_'+str(k)+'/'\n",
        "    os.chdir(working_dir)\n",
        "    \n",
        "    psi = np.load('psi.npy')\n",
        "    # the input from 'deformation_gradient.npy' is actually F - I\n",
        "    dF_ = np.load('deformation_gradient.npy')\n",
        "    P_ = np.load('PKstress.npy')\n",
        "    \n",
        "    # compute C = F^T * F and S = F^-1 * P\n",
        "    C_, S_ = convert_Defgrad_and_PKStress( dF_ , P_ )\n",
        "    # because S = 2* d\\psi / dC\n",
        "    # we should use 0.5*S as the supervision on gradients\n",
        "    S_ /= 2.\n",
        "    energy_data_list.append(psi)\n",
        "    stretch_data_list.append(C_)\n",
        "    PKStress_data_list.append(S_)\n",
        "os.chdir('../..')"
      ],
      "execution_count": null,
      "outputs": []
    },
    {
      "cell_type": "markdown",
      "metadata": {
        "id": "BHGR9jaQ6Zj6"
      },
      "source": [
        "Standardization:"
      ]
    },
    {
      "cell_type": "code",
      "metadata": {
        "id": "Co6iNTN76Efa"
      },
      "source": [
        "from sklearn.preprocessing import StandardScaler, MinMaxScaler\n",
        "# scalers for normalization\n",
        "gnn_data_scaler = StandardScaler()\n",
        "energy_data_scaler   = StandardScaler()\n",
        "stretch_data_scaler  = StandardScaler()\n",
        "PKStress_data_scaler = StandardScaler()\n",
        "PKStress_scaler_alt = MinMaxScaler()\n",
        "gnn_data_scaler.fit(torch.cat(gnn_feature_list,dim=0).numpy().reshape(-1,n_features))\n",
        "energy_data_scaler.fit  (np.concatenate(energy_data_list  , axis=0).reshape(-1,1))\n",
        "stretch_data_scaler.fit (np.concatenate(stretch_data_list , axis=0).reshape(-1,9))\n",
        "PKStress_data_scaler.fit(np.concatenate(PKStress_data_list, axis=0).reshape(-1,9))\n",
        "# alternative min max scaler to check the validation acc\n",
        "PKStress_scaler_alt.fit(np.concatenate(PKStress_data_list, axis=0).reshape(-1,9))\n",
        "\n",
        "for k in range(150):\n",
        "    # normalize GNN nodal features and energy model data\n",
        "    tmp_gnn_features = gnn_data_scaler.transform(gnn_data_list[k].x)\n",
        "    gnn_data_list[k].x = torch.tensor(tmp_gnn_features, dtype=torch.double) #####\n",
        "    energy_data_list[k]   = energy_data_scaler  .transform(energy_data_list[k])\n",
        "    energy_data_list[k]   = torch.tensor(energy_data_list[k], dtype=torch.double) #####\n",
        "    stretch_data_list[k]  = stretch_data_scaler .transform(stretch_data_list[k])\n",
        "    stretch_data_list[k]  = torch.tensor(stretch_data_list[k], dtype=torch.double) #####\n",
        "    PKStress_data_list[k] = PKStress_data_scaler.transform(PKStress_data_list[k])\n",
        "    PKStress_data_list[k] = torch.tensor(PKStress_data_list[k])"
      ],
      "execution_count": null,
      "outputs": []
    },
    {
      "cell_type": "code",
      "metadata": {
        "colab": {
          "base_uri": "https://localhost:8080/"
        },
        "id": "lR89HbFZ6fip",
        "outputId": "6c63c07f-c7b6-4502-f377-fc7adacaba57"
      },
      "source": [
        "# collect train_X, train_Y for each gnn batch\n",
        "energy_scale  = torch.tensor(1. / energy_data_scaler.scale_, dtype=torch.double)\n",
        "strain_scales = torch.tensor(stretch_data_scaler.scale_, dtype=torch.double)\n",
        "stress_scales = torch.tensor(PKStress_data_scaler.scale_, dtype=torch.double)\n",
        "stress_limits = torch.tensor(PKStress_data_scaler.mean_, dtype=torch.double)\n",
        "data_scales = (strain_scales, energy_scale, stress_scales, stress_limits)\n",
        "trainX_list = []\n",
        "trainY_list = []\n",
        "for bch in range(10):\n",
        "    masks = [torch.full( (stretch_data_list[15*bch+m]. shape[0], 1), m, dtype=torch.int32 ) for m in range(15)]\n",
        "    train_X = torch.stack(stretch_data_list[15*bch : 15*(bch+1)]).reshape((-1,9))\n",
        "    train_X = torch.cat( (train_X, torch.stack(masks).reshape(-1,1)), axis=1 )\n",
        "    trainX_list.append(Variable(train_X))\n",
        "    train_Y = torch.cat( (torch.stack(energy_data_list[15*bch : 15*(bch+1)]).reshape(-1,1),\\\n",
        "        torch.stack(PKStress_data_list[15*bch : 15*(bch+1)]).reshape(-1,9) ), axis=1)\n",
        "    trainY_list.append(Variable(train_Y))\n",
        "\n",
        "# config parameters\n",
        "BATCH_SIZE = 64\n",
        "EPOCH = 160\n",
        "MODEL_PATH = 'gnn_elas.pt'\n",
        "\n",
        "# construct the dataloaders\n",
        "train_loaders = []\n",
        "valid_loaders = []\n",
        "valid_split = .2\n",
        "gnn_loaders = []\n",
        "for bch in range(10):\n",
        "    gnn_loaders.append( geo.data.DataLoader(gnn_data_list[15*bch : 15*(bch+1)], batch_size=15) )\n",
        "    dataset_len = trainX_list[bch].shape[0]\n",
        "    indices = list(range(dataset_len))\n",
        "    # Randomly splitting indices:\n",
        "    valid_idx = np.random.choice(indices, size=int(np.floor(valid_split * dataset_len)), replace=False)\n",
        "    train_idx = list(set(indices) - set(valid_idx))\n",
        "    # Defining the samplers for each phase based on the random indices:\n",
        "    train_sampler = Data.SubsetRandomSampler(train_idx)\n",
        "    valid_sampler = Data.SubsetRandomSampler(valid_idx)\n",
        "\n",
        "    torch_dataset = Data.TensorDataset(trainX_list[bch], trainY_list[bch])\n",
        "    train_loader = Data.DataLoader(torch_dataset, batch_size=BATCH_SIZE, sampler=train_sampler)\n",
        "    valid_loader = Data.DataLoader(torch_dataset, batch_size=BATCH_SIZE, sampler=valid_sampler)\n",
        "    train_loaders.append(train_loader)\n",
        "    valid_loaders.append(valid_loader)"
      ],
      "execution_count": null,
      "outputs": [
        {
          "output_type": "stream",
          "name": "stderr",
          "text": [
            "/usr/local/lib/python3.7/dist-packages/torch_geometric/deprecation.py:13: UserWarning: 'data.DataLoader' is deprecated, use 'loader.DataLoader' instead\n",
            "  warnings.warn(out)\n"
          ]
        }
      ]
    },
    {
      "cell_type": "code",
      "metadata": {
        "id": "XbT9VmggHxw_"
      },
      "source": [
        "import torch\n",
        "from torch.autograd import Variable, grad\n",
        "import torch.utils.data as Data\n",
        "import torch.nn as nn\n",
        "import torch.nn.functional as F_\n",
        "from torch.nn.init import xavier_uniform_\n",
        "import numpy as np, copy\n",
        "loss_func = nn.MSELoss()\n",
        "DEBUG = False\n",
        "\n",
        "class Multiply(nn.Module):\n",
        "\n",
        "    def __init__(self):\n",
        "        super(Multiply, self).__init__()\n",
        "\n",
        "    def forward(self, inp_list):\n",
        "        result = torch.ones(inp_list[0].size(), dtype=torch.double)\n",
        "        for x in inp_list:\n",
        "            result *= x\n",
        "\n",
        "        return result\n",
        "\n",
        "\n",
        "import torch_geometric as torchG\n",
        "from torch_geometric.nn import GCNConv, global_mean_pool, GATv2Conv"
      ],
      "execution_count": null,
      "outputs": []
    },
    {
      "cell_type": "code",
      "source": [
        "class GNN(nn.Module):\n",
        "\n",
        "    def __init__(self, inp, out, hidden):\n",
        "        super(GNN, self).__init__()\n",
        "        self.conv1 = GATv2Conv(inp, hidden)\n",
        "        self.conv2 = GATv2Conv(hidden, hidden)\n",
        "        self.conv3 = GATv2Conv(hidden, hidden)\n",
        "        self.conv4 = GATv2Conv(hidden, hidden)\n",
        "        self.conv5 = GATv2Conv(hidden, hidden)\n",
        "        self.bn1 = nn.BatchNorm1d(hidden)\n",
        "        self.bn3 = nn.BatchNorm1d(hidden)\n",
        "        self.bn4 = nn.BatchNorm1d(hidden)\n",
        "        self.drop1 = nn.Dropout(p=0.5)\n",
        "        self.lin1 = nn.Linear(hidden, (hidden // 2), bias=True)\n",
        "        self.bn2 = nn.BatchNorm1d(hidden // 2)\n",
        "        self.drop2 = nn.Dropout(p=0.5)\n",
        "        xavier_uniform_(self.lin1.weight)\n",
        "        self.lin2 = nn.Linear((hidden // 2), out, bias=True)\n",
        "        self.bn3 = nn.BatchNorm1d(out)\n",
        "        xavier_uniform_(self.lin2.weight)\n",
        "\n",
        "    def forward(self, x, edge_index, batch):\n",
        "        x = self.conv1(x, edge_index)\n",
        "        x = self.bn1(x)\n",
        "        x = F_.relu(x)\n",
        "        x = self.drop1(x)\n",
        "        x = self.conv2(x, edge_index)\n",
        "        x = F_.relu(x)\n",
        "        #x = self.bn3(x)\n",
        "        x = self.conv3(x, edge_index)\n",
        "        x = F_.relu(x)\n",
        "        x = self.conv4(x, edge_index)\n",
        "        x = F_.relu(x)\n",
        "        #x = self.bn4(x)\n",
        "        x = self.conv5(x, edge_index)\n",
        "        x = global_mean_pool(x, batch)\n",
        "        x = self.lin1(x)\n",
        "        x = self.bn2(x)\n",
        "        x = F_.relu(x)\n",
        "        x = self.drop2(x)\n",
        "        x = self.lin2(x)\n",
        "        x = self.bn3(x)\n",
        "        return x\n",
        "\n",
        "\n",
        "class MixGNN(nn.Module):\n",
        "\n",
        "    def __init__(self, inp, out, hidden, gnn_inp, gnn_out, gnn_hidden):\n",
        "        super(MixGNN, self).__init__()\n",
        "        self.gnn = GNN(gnn_inp, gnn_out, gnn_hidden)\n",
        "        self.fc1 = nn.Linear((inp + gnn_out), hidden, bias=True)\n",
        "        self.bn4 = nn.BatchNorm1d(hidden)\n",
        "        self.drop4 = nn.Dropout(p=0.5)\n",
        "        xavier_uniform_(self.fc1.weight)\n",
        "        self.mult1 = Multiply()\n",
        "        self.fc2 = nn.Linear(hidden, (hidden // 4), bias=True)\n",
        "        self.bn5 = nn.BatchNorm1d(hidden // 4)\n",
        "        self.drop5 = nn.Dropout(p=0.3)\n",
        "        xavier_uniform_(self.fc2.weight)\n",
        "        self.mult2 = Multiply()\n",
        "        self.mult3 = Multiply()\n",
        "        self.fc3 = nn.Linear((hidden // 4), out, bias=True)\n",
        "\n",
        "    def forward(self, x, masks, gnn_x, edge_index, gnn_batch, debug=False):\n",
        "        gnn_x = self.gnn(gnn_x, edge_index, gnn_batch)\n",
        "        gnn_x = gnn_x[masks, :]\n",
        "        h = torch.cat((x, gnn_x), axis=1)\n",
        "        h = self.fc1(h)\n",
        "        h = self.bn4(h)\n",
        "        h = F_.relu(h)\n",
        "        h = self.mult1([h, h])\n",
        "        h = self.drop4(h)\n",
        "        h = self.fc2(h)\n",
        "        h = self.bn5(h)\n",
        "        h = F_.relu(h)\n",
        "        h = self.mult2([h, h])\n",
        "        h = self.mult3([h, h])\n",
        "        h = self.drop5(h)\n",
        "        h = self.fc3(h)\n",
        "        return h\n",
        "\n",
        "    def predict_energy(self, x, masks, gnn_x, edge_index, gnn_batch, data_scales):\n",
        "        in_scales, out_scale, grad_scales, grad_limits = data_scales\n",
        "        y = self(x, masks, gnn_x, edge_index, gnn_batch)\n",
        "        grad_y, = grad((y.sum()), x, create_graph=True)\n",
        "        grad_y /= torch.tensor(in_scales) * out_scale\n",
        "        grad_y -= torch.tensor(grad_limits)\n",
        "        grad_y /= torch.tensor(grad_scales)\n",
        "        return (x.detach().numpy(), y.detach().numpy(), grad_y.detach().numpy())"
      ],
      "metadata": {
        "id": "Hv3g7t_k9ywi"
      },
      "execution_count": null,
      "outputs": []
    },
    {
      "cell_type": "code",
      "metadata": {
        "id": "B_hk92DoFAAH"
      },
      "source": [
        "\n",
        "def train_H1_scaled_hybrid(net, train_loaders, valid_loaders, graph_loaders, EPOCH, BATCH_SIZE, optimizer, scheduler, data_scales, lam1):\n",
        "    best_loss = np.inf\n",
        "    num_train_data = np.array([len(train_loader.dataset) for train_loader in train_loaders], dtype=(np.int32)).sum()\n",
        "    num_valid_data = np.array([len(val_loader.dataset) for val_loader in valid_loaders], dtype=(np.int32)).sum()\n",
        "    in_scales, out_scale, grad_scales, grad_limits = data_scales\n",
        "    lossTotal = np.zeros((EPOCH, 1))\n",
        "    lossVal = np.zeros((EPOCH, 1))\n",
        "    lossGrad = np.zeros((EPOCH, 1))\n",
        "    vlossTotal = np.zeros((EPOCH, 1))\n",
        "    vlossVal = np.zeros((EPOCH, 1))\n",
        "    vlossGrad = np.zeros((EPOCH, 1))\n",
        "    terminate_training = False\n",
        "    eps = 1e-06\n",
        "    for epoch in range(EPOCH):\n",
        "        epoch_mse0 = 0.0\n",
        "        epoch_mse1 = 0.0\n",
        "        epoch_val_mse0 = 0.0\n",
        "        epoch_val_mse1 = 0.0\n",
        "        for bch in range(len(train_loaders)):\n",
        "            train_loader = train_loaders[bch]\n",
        "            valid_loader = valid_loaders[bch]\n",
        "            graph_loader = graph_loaders[bch]\n",
        "            num_gnn_batch = 0\n",
        "            for _, temp_data in enumerate(graph_loader):\n",
        "                num_gnn_batch += 1\n",
        "\n",
        "            assert num_gnn_batch == 1\n",
        "            gnn_data = copy.deepcopy(temp_data)\n",
        "            for cnt, (batch_x, batch_y) in enumerate(train_loader):\n",
        "                b_x = Variable((batch_x[:, :-1]), requires_grad=True)\n",
        "                b_y = Variable(batch_y)\n",
        "                masks = batch_x[:, -1].long()\n",
        "                net.eval()\n",
        "\n",
        "                output0 = net(b_x, masks, (gnn_data.x), (gnn_data.edge_index), (gnn_data.batch), debug=DEBUG)\n",
        "                output1, = grad((output0.sum()), b_x, create_graph=True)\n",
        "                b_x.requires_grad = False\n",
        "                output1 /= torch.tensor(in_scales) * out_scale\n",
        "                output1 -= torch.tensor(grad_limits)\n",
        "                output1 /= torch.tensor(grad_scales)\n",
        "                net.train()\n",
        "                mse0 = loss_func(output0, b_y[:, 0:1])\n",
        "                mse1 = loss_func(output1, b_y[:, 1:])\n",
        "                epoch_mse0 += mse0.detach().item() * BATCH_SIZE\n",
        "                epoch_mse1 += mse1.detach().item() * BATCH_SIZE\n",
        "                loss = mse0 + lam1 * mse1\n",
        "                optimizer.zero_grad()\n",
        "                loss.backward()\n",
        "                optimizer.step()\n",
        "\n",
        "            for _, (batch_x, batch_y) in enumerate(valid_loader):\n",
        "                b_x = Variable((batch_x[:, :-1]), requires_grad=True)\n",
        "                b_y = Variable(batch_y)\n",
        "                masks = batch_x[:, -1].long()\n",
        "                num_gnn_batch = 0\n",
        "                for _, temp_data in enumerate(graph_loader):\n",
        "                    num_gnn_batch += 1\n",
        "\n",
        "                assert num_gnn_batch == 1\n",
        "                gnn_data = copy.deepcopy(temp_data)\n",
        "                net.eval()\n",
        "                output0 = net(b_x, masks, gnn_data.x, gnn_data.edge_index, gnn_data.batch)\n",
        "                output1, = grad((output0.sum()), b_x, create_graph=True)\n",
        "                b_x.requires_grad = False\n",
        "                output1 /= torch.tensor(in_scales) * out_scale\n",
        "                output1 -= torch.tensor(grad_limits)\n",
        "                output1 /= torch.tensor(grad_scales)\n",
        "                epoch_val_mse0 += loss_func(output0, b_y[:, 0:1]).detach().item() * BATCH_SIZE\n",
        "                epoch_val_mse1 += loss_func(output1, b_y[:, 1:]).detach().item() * BATCH_SIZE\n",
        "\n",
        "        epoch_mse0 /= num_train_data\n",
        "        epoch_mse1 /= num_train_data\n",
        "        epoch_loss = epoch_mse0 + lam1 * epoch_mse1\n",
        "        epoch_val_mse0 /= num_valid_data\n",
        "        epoch_val_mse1 /= num_valid_data\n",
        "        epoch_val_loss = epoch_val_mse0 + lam1 * epoch_val_mse1\n",
        "        scheduler.step()\n",
        "        lossTotal[epoch] = epoch_loss\n",
        "        lossVal[epoch] = epoch_mse0\n",
        "        lossGrad[epoch] = epoch_mse1\n",
        "        vlossTotal[epoch] = epoch_val_loss\n",
        "        vlossVal[epoch] = epoch_val_mse0\n",
        "        vlossGrad[epoch] = epoch_val_mse1\n",
        "        if  (epoch) % 5 == 0:\n",
        "            print('    epoch {:4d}'.format(epoch + 1), 'lr: {:.7f}'.format(optimizer.param_groups[0]['lr']), 'train val loss: {:.3e}'.format(epoch_mse0), 'train grad loss: {:.3e}'.format(epoch_mse1), 'train total loss: {:.3e}'.format(epoch_loss), 'valid val loss: {:.3e}'.format(epoch_val_mse0), 'valid grad loss: {:.3e}'.format(epoch_val_mse1), 'valid total loss: {:.3e}'.format(epoch_val_loss))\n",
        "            if epoch_loss < best_loss:\n",
        "                best_loss = epoch_loss\n",
        "                state = copy.deepcopy(net.state_dict())\n",
        "\n",
        "    print('Best score:', best_loss)\n",
        "    return (state, lossTotal, lossVal, lossGrad, vlossTotal, vlossVal, vlossGrad)"
      ],
      "execution_count": null,
      "outputs": []
    },
    {
      "cell_type": "code",
      "metadata": {
        "id": "QPiB4NVN67SY"
      },
      "source": [
        "net = MixGNN(inp=9, out=1, hidden=256, gnn_inp=n_features, gnn_out=9, gnn_hidden=64).double()\n",
        "optimizer = torch.optim.Adam(net.parameters(), lr=2e-3, weight_decay=1e-6)\n",
        "scheduler = torch.optim.lr_scheduler.StepLR(optimizer, step_size=40, gamma=0.7)\n",
        "# reserve the last 15 RVEs for test purpose\n",
        "\n",
        "#torch.save(state_energy, MODEL_PATH)"
      ],
      "execution_count": null,
      "outputs": []
    },
    {
      "cell_type": "code",
      "metadata": {
        "id": "MZ4Y3OuR7jVQ",
        "colab": {
          "base_uri": "https://localhost:8080/"
        },
        "outputId": "acd025bd-3116-4c79-d8fe-8c3647d5fc3b"
      },
      "source": [
        "state_energy, lossTotal, lossVal, lossGrad, vlossTotal, vlossVal, vlossGrad =\\\n",
        "train_H1_scaled_hybrid(net.double(), train_loaders, valid_loaders, gnn_loaders, EPOCH, BATCH_SIZE, optimizer, scheduler, data_scales, lam1=.5)"
      ],
      "execution_count": null,
      "outputs": [
        {
          "output_type": "stream",
          "name": "stderr",
          "text": [
            "/usr/local/lib/python3.7/dist-packages/ipykernel_launcher.py:39: UserWarning: To copy construct from a tensor, it is recommended to use sourceTensor.clone().detach() or sourceTensor.clone().detach().requires_grad_(True), rather than torch.tensor(sourceTensor).\n",
            "/usr/local/lib/python3.7/dist-packages/ipykernel_launcher.py:40: UserWarning: To copy construct from a tensor, it is recommended to use sourceTensor.clone().detach() or sourceTensor.clone().detach().requires_grad_(True), rather than torch.tensor(sourceTensor).\n",
            "/usr/local/lib/python3.7/dist-packages/ipykernel_launcher.py:41: UserWarning: To copy construct from a tensor, it is recommended to use sourceTensor.clone().detach() or sourceTensor.clone().detach().requires_grad_(True), rather than torch.tensor(sourceTensor).\n",
            "/usr/local/lib/python3.7/dist-packages/ipykernel_launcher.py:66: UserWarning: To copy construct from a tensor, it is recommended to use sourceTensor.clone().detach() or sourceTensor.clone().detach().requires_grad_(True), rather than torch.tensor(sourceTensor).\n",
            "/usr/local/lib/python3.7/dist-packages/ipykernel_launcher.py:67: UserWarning: To copy construct from a tensor, it is recommended to use sourceTensor.clone().detach() or sourceTensor.clone().detach().requires_grad_(True), rather than torch.tensor(sourceTensor).\n",
            "/usr/local/lib/python3.7/dist-packages/ipykernel_launcher.py:68: UserWarning: To copy construct from a tensor, it is recommended to use sourceTensor.clone().detach() or sourceTensor.clone().detach().requires_grad_(True), rather than torch.tensor(sourceTensor).\n"
          ]
        },
        {
          "output_type": "stream",
          "name": "stdout",
          "text": [
            "    epoch    1 lr: 0.0020000 train val loss: 8.199e-03 train grad loss: 4.045e-02 train total loss: 2.843e-02 valid val loss: 3.958e-04 valid grad loss: 4.339e-03 valid total loss: 2.565e-03\n",
            "    epoch    6 lr: 0.0020000 train val loss: 8.499e-03 train grad loss: 4.028e-02 train total loss: 2.864e-02 valid val loss: 4.211e-04 valid grad loss: 4.035e-03 valid total loss: 2.438e-03\n",
            "    epoch   11 lr: 0.0014000 train val loss: 4.599e-03 train grad loss: 2.343e-02 train total loss: 1.631e-02 valid val loss: 2.551e-04 valid grad loss: 2.680e-03 valid total loss: 1.595e-03\n",
            "    epoch   16 lr: 0.0014000 train val loss: 2.710e-03 train grad loss: 1.526e-02 train total loss: 1.034e-02 valid val loss: 1.417e-04 valid grad loss: 1.919e-03 valid total loss: 1.101e-03\n",
            "    epoch   21 lr: 0.0014000 train val loss: 2.337e-03 train grad loss: 1.308e-02 train total loss: 8.879e-03 valid val loss: 1.039e-04 valid grad loss: 1.521e-03 valid total loss: 8.644e-04\n",
            "    epoch   26 lr: 0.0014000 train val loss: 2.094e-03 train grad loss: 1.052e-02 train total loss: 7.355e-03 valid val loss: 1.017e-04 valid grad loss: 1.121e-03 valid total loss: 6.621e-04\n",
            "    epoch   31 lr: 0.0014000 train val loss: 1.637e-03 train grad loss: 8.514e-03 train total loss: 5.895e-03 valid val loss: 7.093e-05 valid grad loss: 8.373e-04 valid total loss: 4.896e-04\n",
            "    epoch   36 lr: 0.0014000 train val loss: 1.602e-03 train grad loss: 7.522e-03 train total loss: 5.363e-03 valid val loss: 7.059e-05 valid grad loss: 6.983e-04 valid total loss: 4.198e-04\n",
            "    epoch   41 lr: 0.0014000 train val loss: 1.320e-03 train grad loss: 6.470e-03 train total loss: 4.555e-03 valid val loss: 6.450e-05 valid grad loss: 6.008e-04 valid total loss: 3.649e-04\n",
            "    epoch   46 lr: 0.0014000 train val loss: 1.215e-03 train grad loss: 6.000e-03 train total loss: 4.215e-03 valid val loss: 5.409e-05 valid grad loss: 5.761e-04 valid total loss: 3.421e-04\n",
            "    epoch   51 lr: 0.0009800 train val loss: 1.335e-03 train grad loss: 6.147e-03 train total loss: 4.409e-03 valid val loss: 5.198e-05 valid grad loss: 5.609e-04 valid total loss: 3.324e-04\n",
            "    epoch   56 lr: 0.0009800 train val loss: 7.493e-04 train grad loss: 3.601e-03 train total loss: 2.550e-03 valid val loss: 3.120e-05 valid grad loss: 3.602e-04 valid total loss: 2.113e-04\n",
            "    epoch   61 lr: 0.0009800 train val loss: 6.460e-04 train grad loss: 3.276e-03 train total loss: 2.284e-03 valid val loss: 2.574e-05 valid grad loss: 3.219e-04 valid total loss: 1.867e-04\n",
            "    epoch   66 lr: 0.0009800 train val loss: 7.258e-04 train grad loss: 3.484e-03 train total loss: 2.468e-03 valid val loss: 2.929e-05 valid grad loss: 3.505e-04 valid total loss: 2.045e-04\n",
            "    epoch   71 lr: 0.0009800 train val loss: 6.324e-04 train grad loss: 3.089e-03 train total loss: 2.177e-03 valid val loss: 3.569e-05 valid grad loss: 3.444e-04 valid total loss: 2.079e-04\n",
            "    epoch   76 lr: 0.0009800 train val loss: 6.202e-04 train grad loss: 3.201e-03 train total loss: 2.221e-03 valid val loss: 2.921e-05 valid grad loss: 3.038e-04 valid total loss: 1.811e-04\n",
            "    epoch   81 lr: 0.0009800 train val loss: 5.524e-04 train grad loss: 2.909e-03 train total loss: 2.007e-03 valid val loss: 2.303e-05 valid grad loss: 2.829e-04 valid total loss: 1.645e-04\n",
            "    epoch   86 lr: 0.0009800 train val loss: 5.998e-04 train grad loss: 2.726e-03 train total loss: 1.963e-03 valid val loss: 2.435e-05 valid grad loss: 2.694e-04 valid total loss: 1.590e-04\n",
            "    epoch   91 lr: 0.0006860 train val loss: 4.597e-04 train grad loss: 2.347e-03 train total loss: 1.633e-03 valid val loss: 2.992e-05 valid grad loss: 2.535e-04 valid total loss: 1.567e-04\n",
            "    epoch   96 lr: 0.0006860 train val loss: 2.951e-04 train grad loss: 1.641e-03 train total loss: 1.116e-03 valid val loss: 1.641e-05 valid grad loss: 2.057e-04 valid total loss: 1.192e-04\n",
            "    epoch  101 lr: 0.0006860 train val loss: 3.409e-04 train grad loss: 1.693e-03 train total loss: 1.187e-03 valid val loss: 1.901e-05 valid grad loss: 2.066e-04 valid total loss: 1.223e-04\n",
            "    epoch  106 lr: 0.0006860 train val loss: 3.041e-04 train grad loss: 1.603e-03 train total loss: 1.105e-03 valid val loss: 1.627e-05 valid grad loss: 1.933e-04 valid total loss: 1.129e-04\n",
            "    epoch  111 lr: 0.0006860 train val loss: 2.914e-04 train grad loss: 1.520e-03 train total loss: 1.051e-03 valid val loss: 1.483e-05 valid grad loss: 1.942e-04 valid total loss: 1.119e-04\n",
            "    epoch  116 lr: 0.0006860 train val loss: 2.461e-04 train grad loss: 1.385e-03 train total loss: 9.385e-04 valid val loss: 1.354e-05 valid grad loss: 1.680e-04 valid total loss: 9.753e-05\n",
            "    epoch  121 lr: 0.0006860 train val loss: 2.717e-04 train grad loss: 1.399e-03 train total loss: 9.710e-04 valid val loss: 1.320e-05 valid grad loss: 1.783e-04 valid total loss: 1.024e-04\n",
            "    epoch  126 lr: 0.0006860 train val loss: 2.566e-04 train grad loss: 1.373e-03 train total loss: 9.432e-04 valid val loss: 1.549e-05 valid grad loss: 1.713e-04 valid total loss: 1.011e-04\n",
            "    epoch  131 lr: 0.0004802 train val loss: 2.148e-04 train grad loss: 1.187e-03 train total loss: 8.082e-04 valid val loss: 1.347e-05 valid grad loss: 1.529e-04 valid total loss: 8.991e-05\n",
            "    epoch  136 lr: 0.0004802 train val loss: 1.858e-04 train grad loss: 1.008e-03 train total loss: 6.897e-04 valid val loss: 1.224e-05 valid grad loss: 1.384e-04 valid total loss: 8.144e-05\n",
            "    epoch  141 lr: 0.0004802 train val loss: 1.874e-04 train grad loss: 9.944e-04 train total loss: 6.846e-04 valid val loss: 1.264e-05 valid grad loss: 1.352e-04 valid total loss: 8.025e-05\n",
            "    epoch  146 lr: 0.0004802 train val loss: 1.600e-04 train grad loss: 8.998e-04 train total loss: 6.099e-04 valid val loss: 1.120e-05 valid grad loss: 1.400e-04 valid total loss: 8.122e-05\n",
            "    epoch  151 lr: 0.0004802 train val loss: 1.794e-04 train grad loss: 9.076e-04 train total loss: 6.332e-04 valid val loss: 1.225e-05 valid grad loss: 1.263e-04 valid total loss: 7.542e-05\n",
            "    epoch  156 lr: 0.0004802 train val loss: 1.520e-04 train grad loss: 8.422e-04 train total loss: 5.731e-04 valid val loss: 1.034e-05 valid grad loss: 1.284e-04 valid total loss: 7.454e-05\n",
            "Best score: 0.0005730861652495185\n"
          ]
        }
      ]
    },
    {
      "cell_type": "code",
      "metadata": {
        "colab": {
          "base_uri": "https://localhost:8080/"
        },
        "id": "duTROfALZCuK",
        "outputId": "0b5d4688-3c23-4ed6-d9b6-463405e59cd8"
      },
      "source": [
        "# test graph data from gnn_loader[0]\n",
        "num_gnn_batch = 0\n",
        "for _, temp_data in enumerate(gnn_loaders[1]):\n",
        "    num_gnn_batch += 1\n",
        "assert(num_gnn_batch == 1)\n",
        "gnn_data = copy.deepcopy(temp_data)\n",
        "\n",
        "\n",
        "# prepare test X\n",
        "test_X = Variable(trainX_list[1][:,:-1], requires_grad = True)\n",
        "test_masks = trainX_list[1][:,-1].long()\n",
        "\n",
        "test_true_strain = stretch_data_scaler.inverse_transform( test_X.detach().numpy() )\n",
        "test_true_energy = energy_data_scaler.inverse_transform( trainY_list[1][:,0:1].detach().numpy() )\n",
        "test_true_stress = PKStress_data_scaler.inverse_transform( trainY_list[1][:,1:].detach().numpy() )\n",
        "\n",
        "# test routine\n",
        "net.load_state_dict(state_energy)\n",
        "net.eval()\n",
        "test_Y = net(test_X, test_masks, gnn_data.x, gnn_data.edge_index, gnn_data.batch)\n",
        "test_YGrad, = grad(test_Y.sum(), test_X, create_graph=True)\n",
        "test_YGrad /= (torch.tensor(strain_scales) * energy_scale)\n",
        "test_pred_stress = test_YGrad.detach().numpy()\n",
        "\n",
        "from sklearn.metrics import mean_squared_error\n",
        "test_loss = mean_squared_error( PKStress_data_scaler.transform(test_pred_stress),\\\n",
        "    PKStress_data_scaler.transform(test_true_stress) )\n",
        "print('test MSE: ', test_loss)"
      ],
      "execution_count": null,
      "outputs": [
        {
          "output_type": "stream",
          "name": "stdout",
          "text": [
            "test MSE:  0.005979488086594809\n"
          ]
        },
        {
          "output_type": "stream",
          "name": "stderr",
          "text": [
            "/usr/local/lib/python3.7/dist-packages/ipykernel_launcher.py:22: UserWarning: To copy construct from a tensor, it is recommended to use sourceTensor.clone().detach() or sourceTensor.clone().detach().requires_grad_(True), rather than torch.tensor(sourceTensor).\n"
          ]
        }
      ]
    },
    {
      "cell_type": "code",
      "metadata": {
        "id": "5pi9dYc47_wZ",
        "colab": {
          "base_uri": "https://localhost:8080/",
          "height": 333
        },
        "outputId": "33e7d6f0-9449-4f1c-d84d-d007fd7d9e75"
      },
      "source": [
        "test_plot_range = range(0,10)\n",
        "strain_hist = test_true_strain[test_plot_range,:]\n",
        "stress_hist_true = test_true_stress[test_plot_range,:]\n",
        "stress_hist_pred = test_pred_stress[test_plot_range,:]\n",
        "\n",
        "fig, axs = plt.subplots(1, 3, figsize=(18,4.5),\\\n",
        "        gridspec_kw={'wspace': 0.4, 'hspace': 0.2})\n",
        "ax = axs[0]\n",
        "ax.plot(strain_hist[:,0], stress_hist_true[:,0], 'r-', label='gound truth')\n",
        "ax.plot(strain_hist[:,0], stress_hist_pred[:,0], 'b--', label='prediction')\n",
        "ax.set_xlabel(\"F11\", fontsize=15)\n",
        "ax.set_ylabel(\"S11\", fontsize=15)\n",
        "ax.set_ylim([0,0.2])\n",
        "ax.legend(fontsize=12)\n",
        "\n",
        "ax = axs[1]\n",
        "ax.plot(strain_hist[:,0], stress_hist_true[:,4], 'r-', label='gound truth')\n",
        "ax.plot(strain_hist[:,0], stress_hist_pred[:,4], 'b--', label='prediction')\n",
        "ax.set_xlabel(\"F11\", fontsize=15)\n",
        "ax.set_ylabel(\"S22\", fontsize=15)\n",
        "ax.set_ylim([0,0.2])\n",
        "ax.legend(fontsize=12)\n",
        "\n",
        "ax = axs[2]\n",
        "ax.plot(strain_hist[:,0], stress_hist_true[:,1], 'r-', label='gound truth')\n",
        "ax.plot(strain_hist[:,0], stress_hist_pred[:,1], 'b--', label='prediction')\n",
        "ax.set_xlabel(\"F11\", fontsize=15)\n",
        "ax.set_ylabel(\"S12\", fontsize=15)\n",
        "ax.set_ylim([0,0.2])\n",
        "ax.legend(fontsize=12)"
      ],
      "execution_count": null,
      "outputs": [
        {
          "output_type": "execute_result",
          "data": {
            "text/plain": [
              "<matplotlib.legend.Legend at 0x7f0e8e4cc910>"
            ]
          },
          "metadata": {},
          "execution_count": 22
        },
        {
          "output_type": "display_data",
          "data": {
            "image/png": "[encoded data removed]",
            "text/plain": [
              "<Figure size 1296x324 with 3 Axes>"
            ]
          },
          "metadata": {
            "needs_background": "light"
          }
        }
      ]
    },
    {
      "cell_type": "code",
      "metadata": {
        "id": "tg3oZ3F_Y96g"
      },
      "source": [
        ""
      ],
      "execution_count": null,
      "outputs": []
    }
  ]
}
