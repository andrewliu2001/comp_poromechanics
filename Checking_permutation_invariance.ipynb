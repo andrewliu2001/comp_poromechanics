{
  "nbformat": 4,
  "nbformat_minor": 0,
  "metadata": {
    "colab": {
      "name": "Checking permutation invariance.ipynb",
      "provenance": [],
      "collapsed_sections": []
    },
    "kernelspec": {
      "name": "python3",
      "display_name": "Python 3"
    },
    "language_info": {
      "name": "python"
    }
  },
  "cells": [
    {
      "cell_type": "markdown",
      "metadata": {
        "id": "ZydqxY6h0P7s"
      },
      "source": [
        "The following connects to the Google Drive where I have Networkx and Pytorch Geometric installed:"
      ]
    },
    {
      "cell_type": "code",
      "metadata": {
        "colab": {
          "base_uri": "https://localhost:8080/"
        },
        "id": "YgbnABKEgWSV",
        "outputId": "b666c377-f5fe-42d3-ef0a-2d711415a385"
      },
      "source": [
        "import os, sys\n",
        "from google.colab import drive\n",
        "drive.mount('/content/drive/')\n",
        "\n",
        "nb_path = '/content/notebooks'\n",
        "#os.symlink('/content/drive/My Drive/Colab Notebooks', nb_path)\n",
        "sys.path.insert(0,nb_path)"
      ],
      "execution_count": null,
      "outputs": [
        {
          "output_type": "stream",
          "name": "stdout",
          "text": [
            "Drive already mounted at /content/drive/; to attempt to forcibly remount, call drive.mount(\"/content/drive/\", force_remount=True).\n"
          ]
        }
      ]
    },
    {
      "cell_type": "code",
      "metadata": {
        "colab": {
          "base_uri": "https://localhost:8080/"
        },
        "id": "XhOKwFVdgZLT",
        "outputId": "3e400258-2284-4893-bc2a-27adf3a6da59"
      },
      "source": [
        "sys.path"
      ],
      "execution_count": null,
      "outputs": [
        {
          "output_type": "execute_result",
          "data": {
            "text/plain": [
              "['/content/notebooks',\n",
              " '',\n",
              " '/content',\n",
              " '/env/python',\n",
              " '/usr/lib/python37.zip',\n",
              " '/usr/lib/python3.7',\n",
              " '/usr/lib/python3.7/lib-dynload',\n",
              " '/usr/local/lib/python3.7/dist-packages',\n",
              " '/usr/lib/python3/dist-packages',\n",
              " '/usr/local/lib/python3.7/dist-packages/IPython/extensions',\n",
              " '/root/.ipython']"
            ]
          },
          "metadata": {},
          "execution_count": 4
        }
      ]
    },
    {
      "cell_type": "markdown",
      "metadata": {
        "id": "SMly6UC3v8Lg"
      },
      "source": [
        "Alternatively, install the modules:"
      ]
    },
    {
      "cell_type": "code",
      "metadata": {
        "id": "Xi4AKCymv_IB"
      },
      "source": [
        "!pip install torch_geometric\n",
        "!pip install networkx"
      ],
      "execution_count": null,
      "outputs": []
    },
    {
      "cell_type": "markdown",
      "metadata": {
        "id": "l8ZAzbPk0pt8"
      },
      "source": [
        "Import modules:"
      ]
    },
    {
      "cell_type": "code",
      "metadata": {
        "id": "NjWzEVXSgdu5"
      },
      "source": [
        "import torch\n",
        "import networkx as nx\n",
        "import torch_geometric as geo\n",
        "from torch_geometric.data import Dataset, DataLoader, Data\n",
        "import torch.nn as nn\n",
        "import torch.nn.functional as F\n",
        "import numpy as np\n",
        "import matplotlib.pyplot as plt"
      ],
      "execution_count": null,
      "outputs": []
    },
    {
      "cell_type": "markdown",
      "metadata": {
        "id": "w5eN4EtV0rQz"
      },
      "source": [
        "Create dataset and edge indices:"
      ]
    },
    {
      "cell_type": "code",
      "metadata": {
        "id": "OBgQQ3y6gojW"
      },
      "source": [
        "graphs = []\n",
        "num_graphs = 500\n",
        "num_node_features = 100\n",
        "feature_matrices = []\n",
        "adj_matrices = []\n",
        "\n",
        "for i in range(num_graphs):\n",
        "  g = nx.Graph()\n",
        "  features = []\n",
        "\n",
        "  #add random number of nodes\n",
        "  num_nodes = 5\n",
        "\n",
        "  for n in range(num_nodes):\n",
        "    feature = torch.tensor(np.random.randn(1, num_node_features), dtype=torch.float32)\n",
        "    features.append(feature)\n",
        "    g.add_node(n, feature=feature)\n",
        "  for e in range(np.random.randint(num_nodes+1, 3*num_nodes)):\n",
        "    g.add_edge(np.random.randint(0,num_nodes), np.random.randint(0,num_nodes))\n",
        "\n",
        "  graphs.append(g)\n",
        "  feature_matrices.append(torch.cat(features, dim=0))\n",
        "  adj_matrices.append(torch.tensor(nx.to_numpy_array(g), dtype=torch.float32))\n",
        "\n",
        "#Create edge_indices\n",
        "\n",
        "edge_indices = []\n",
        "for i, graph in enumerate(graphs):\n",
        "  adj_matrix = adj_matrices[i]\n",
        "  edge_index = geo.utils.dense_to_sparse(adj_matrix)[0]\n",
        "  edge_indices.append(edge_index)"
      ],
      "execution_count": null,
      "outputs": []
    },
    {
      "cell_type": "markdown",
      "metadata": {
        "id": "MJmwpOmz0wT6"
      },
      "source": [
        "Since our model takes in batches of data, create a Dataloader:"
      ]
    },
    {
      "cell_type": "code",
      "metadata": {
        "colab": {
          "base_uri": "https://localhost:8080/"
        },
        "id": "hef46q4XiMFy",
        "outputId": "c608ea9c-313e-42ba-879b-72a588365762"
      },
      "source": [
        "dataset = []\n",
        "for i in range(len(graphs)):\n",
        "  dataset.append(Data(x=feature_matrices[i], edge_index=edge_indices[i]))\n",
        "train_loader = DataLoader(dataset[:4900], batch_size=1)\n",
        "test_loader = DataLoader(dataset[4900:], batch_size=1)"
      ],
      "execution_count": null,
      "outputs": [
        {
          "output_type": "stream",
          "name": "stderr",
          "text": [
            "/content/notebooks/torch_geometric/deprecation.py:13: UserWarning: 'data.DataLoader' is deprecated, use 'loader.DataLoader' instead\n",
            "  warnings.warn(out)\n"
          ]
        }
      ]
    },
    {
      "cell_type": "markdown",
      "metadata": {
        "id": "zXXoa89504Cd"
      },
      "source": [
        "Define model with permutation invariant global pooling layer:"
      ]
    },
    {
      "cell_type": "code",
      "metadata": {
        "id": "UtRzehzkid0J"
      },
      "source": [
        "model = geo.nn.Sequential('x, edge_index, batch',[\n",
        "        (geo.nn.GCNConv(100, 25), 'x, edge_index -> x'),\n",
        "        nn.ReLU(inplace=True),\n",
        "        (geo.nn.GCNConv(25,25), 'x, edge_index -> x'),\n",
        "        nn.ReLU(inplace=True),\n",
        "        (geo.nn.GCNConv(25,25), 'x, edge_index -> x'),\n",
        "        nn.ReLU(inplace=True),\n",
        "        (geo.nn.GCNConv(25,25), 'x, edge_index -> x'),\n",
        "        nn.ReLU(inplace=True),\n",
        "        (geo.nn.GCNConv(25,20), 'x, edge_index -> x'),\n",
        "        nn.ReLU(inplace=True),\n",
        "        (geo.nn.global_max_pool, 'x, batch -> x'),\n",
        "])"
      ],
      "execution_count": null,
      "outputs": []
    },
    {
      "cell_type": "markdown",
      "metadata": {
        "id": "0OpwBwSf07n1"
      },
      "source": [
        "Define a function that performs permutations on the input feature matrix, the adjacency matrix, and the edge index."
      ]
    },
    {
      "cell_type": "code",
      "metadata": {
        "id": "BPqrd8FljXJK"
      },
      "source": [
        "import random\n",
        "def random_permutation(feature_matrix, adj_matrix, edge_index):\n",
        "  num_nodes = feature_matrix.shape[0]\n",
        "  num_edges = edge_index.shape[1]\n",
        "  perm = [i for i in range(num_nodes)]\n",
        "  random.shuffle(perm)\n",
        "  #print(perm)\n",
        "  new_feature_matrix = feature_matrix[perm]\n",
        "  new_adj_matrix = adj_matrix[perm]\n",
        "  new_adj_matrix = torch.index_select(new_adj_matrix, 1, torch.LongTensor(perm))\n",
        "  #print(edge_index)\n",
        "  new_edge_index = geo.utils.dense_to_sparse(new_adj_matrix)[0]\n",
        "  #print(new_edge_index)\n",
        "  return new_feature_matrix, new_adj_matrix, new_edge_index"
      ],
      "execution_count": null,
      "outputs": []
    },
    {
      "cell_type": "markdown",
      "metadata": {
        "id": "VCkS5A9j1EAR"
      },
      "source": [
        "Visualize the effect of permutation (reordering nodes) on a graph and check that they are isomorphic:"
      ]
    },
    {
      "cell_type": "code",
      "metadata": {
        "colab": {
          "base_uri": "https://localhost:8080/",
          "height": 621
        },
        "id": "M1CZt0Buvt36",
        "outputId": "b31e5675-c7cb-4942-d445-07365925231a"
      },
      "source": [
        "i = 123\n",
        "g1 = graphs[i]\n",
        "new_feature_matrix, new_adj_matrix, new_edge_index = random_permutation(feature_matrices[i], adj_matrices[i], edge_indices[i])\n",
        "g2 = nx.from_numpy_matrix(np.array(new_adj_matrix))\n",
        "plt.figure(1)\n",
        "nx.draw(g1, with_labels=True)\n",
        "plt.figure(2)\n",
        "nx.draw(g2, with_labels=True)"
      ],
      "execution_count": null,
      "outputs": [
        {
          "output_type": "display_data",
          "data": {
            "image/png": "[encoded data removed]",
            "text/plain": [
              "<Figure size 432x288 with 1 Axes>"
            ]
          },
          "metadata": {}
        },
        {
          "output_type": "display_data",
          "data": {
            "image/png": "[encoded data removed]",
            "text/plain": [
              "<Figure size 432x288 with 1 Axes>"
            ]
          },
          "metadata": {}
        }
      ]
    },
    {
      "cell_type": "markdown",
      "metadata": {
        "id": "AWRgZpSt1mNt"
      },
      "source": [
        "Iterate through the dataset to check that the resultant feature vectors are permutation invariant."
      ]
    },
    {
      "cell_type": "code",
      "metadata": {
        "colab": {
          "base_uri": "https://localhost:8080/"
        },
        "id": "10e9nALbo3AJ",
        "outputId": "60ab6746-20a6-4283-8964-f9a6578ae0b8"
      },
      "source": [
        "for i, data in enumerate(train_loader):\n",
        "  feature_embedding = model(data.x, edge_indices[i], data.batch)\n",
        "  new_feature_matrix, new_adj_matrix, new_edge_index = random_permutation(data.x, adj_matrices[i], edge_indices[i])\n",
        "\n",
        "  feature_embedding_after_permutation = model(new_feature_matrix, new_edge_index, data.batch)\n",
        "  \n",
        "  assert torch.linalg.norm(feature_embedding_after_permutation - feature_embedding) < 1e-5\n",
        "\n",
        "print('Success!')"
      ],
      "execution_count": null,
      "outputs": [
        {
          "output_type": "stream",
          "name": "stdout",
          "text": [
            "Success!\n"
          ]
        }
      ]
    },
    {
      "cell_type": "code",
      "metadata": {
        "id": "LsLX9bbe4Wip"
      },
      "source": [
        ""
      ],
      "execution_count": null,
      "outputs": []
    }
  ]
}